{
 "cells": [
  {
   "cell_type": "markdown",
   "metadata": {},
   "source": [
    "<p style=\"text-align:center\">\n",
    "    <a href=\"https://skills.network\" target=\"_blank\">\n",
    "    <img src=\"https://cf-courses-data.s3.us.cloud-object-storage.appdomain.cloud/assets/logos/SN_web_lightmode.png\" width=\"200\" alt=\"Skills Network Logo\"  />\n",
    "    </a>\n",
    "</p>\n"
   ]
  },
  {
   "cell_type": "markdown",
   "metadata": {},
   "source": [
    "# **Lab: Exploratory Data Analysis**\n"
   ]
  },
  {
   "cell_type": "markdown",
   "metadata": {},
   "source": [
    "Estimated time needed: **30** minutes\n"
   ]
  },
  {
   "cell_type": "markdown",
   "metadata": {},
   "source": [
    "In this lab, you will work with a cleaned dataset to perform Exploratory Data Analysis or EDA. \n"
   ]
  },
  {
   "cell_type": "markdown",
   "metadata": {},
   "source": [
    "## Objectives\n"
   ]
  },
  {
   "cell_type": "markdown",
   "metadata": {},
   "source": [
    "In this lab, you will perform the following:\n"
   ]
  },
  {
   "cell_type": "markdown",
   "metadata": {},
   "source": [
    "- Examine the structure of a dataset.\n",
    "\n",
    "- Handle missing values effectively.\n",
    "\n",
    "- Conduct summary statistics on key columns.\n",
    "\n",
    "- Analyze employment status, job satisfaction, programming language usage, and trends in remote work.\n"
   ]
  },
  {
   "cell_type": "markdown",
   "metadata": {},
   "source": [
    "## Hands on Lab\n"
   ]
  },
  {
   "cell_type": "markdown",
   "metadata": {},
   "source": [
    "#### Step 1: Install and Import Libraries\n"
   ]
  },
  {
   "cell_type": "markdown",
   "metadata": {},
   "source": [
    "Install the necessary libraries for data manipulation and visualization.\n"
   ]
  },
  {
   "cell_type": "code",
   "execution_count": null,
   "metadata": {},
   "outputs": [],
   "source": [
    "!pip install pandas\n",
    "!pip install matplotlib\n",
    "!pip install seaborn\n",
    "\n",
    "import pandas as pd\n",
    "import matplotlib.pyplot as plt\n",
    "import seaborn as sns"
   ]
  },
  {
   "cell_type": "markdown",
   "metadata": {},
   "source": [
    "#### Step 2: Load and Preview the Dataset\n",
    "Load the dataset from the provided URL. Use df.head() to display the first few rows to get an overview of the structure.\n"
   ]
  },
  {
   "cell_type": "code",
   "execution_count": null,
   "metadata": {},
   "outputs": [],
   "source": [
    "# Load the Stack Overflow survey dataset\n",
    "data_url = 'https://cf-courses-data.s3.us.cloud-object-storage.appdomain.cloud/n01PQ9pSmiRX6520flujwQ/survey-data.csv'\n",
    "df = pd.read_csv(data_url)\n",
    "\n",
    "# Set pandas option to display all columns\n",
    "pd.set_option('display.max_columns', None)\n",
    "\n",
    "# Display the first few rows of the dataset\n",
    "df.head()"
   ]
  },
  {
   "cell_type": "markdown",
   "metadata": {},
   "source": [
    "#### Step 3: Handling Missing Data\n"
   ]
  },
  {
   "cell_type": "markdown",
   "metadata": {},
   "source": [
    "Identify and manage missing values in critical columns such as `Employment`, `JobSat`, and `RemoteWork`. Implement a strategy to fill or drop these values, depending on the significance of the missing data.\n"
   ]
  },
  {
   "cell_type": "code",
   "execution_count": null,
   "metadata": {},
   "outputs": [],
   "source": [
    "## Write your code here\n",
    "df[['Employment','JobSat','RemoteWork']].dtypes"
   ]
  },
  {
   "cell_type": "code",
   "execution_count": null,
   "metadata": {},
   "outputs": [],
   "source": [
    "df[['Employment','JobSat','RemoteWork']].isna().sum()"
   ]
  },
  {
   "cell_type": "code",
   "execution_count": null,
   "metadata": {},
   "outputs": [],
   "source": [
    "df[['JobSat','RemoteWork']].nunique()"
   ]
  },
  {
   "cell_type": "code",
   "execution_count": null,
   "metadata": {},
   "outputs": [],
   "source": [
    "df['JobSat'].unique()"
   ]
  },
  {
   "cell_type": "code",
   "execution_count": null,
   "metadata": {},
   "outputs": [],
   "source": [
    "df['JobSat'].value_counts()"
   ]
  },
  {
   "cell_type": "code",
   "execution_count": null,
   "metadata": {},
   "outputs": [],
   "source": [
    "df['JobSat']=pd.to_numeric(df['JobSat'],errors = 'coerce')\n",
    "df['JobSat'].fillna(int(df['JobSat'].mean()),inplace=True)"
   ]
  },
  {
   "cell_type": "code",
   "execution_count": null,
   "metadata": {},
   "outputs": [],
   "source": [
    "df['RemoteWork'].unique()"
   ]
  },
  {
   "cell_type": "code",
   "execution_count": null,
   "metadata": {},
   "outputs": [],
   "source": [
    "df['RemoteWork'].value_counts()"
   ]
  },
  {
   "cell_type": "code",
   "execution_count": null,
   "metadata": {},
   "outputs": [],
   "source": [
    "df['RemoteWork'].fillna(df['RemoteWork'].mode()[0],inplace=True)"
   ]
  },
  {
   "cell_type": "code",
   "execution_count": null,
   "metadata": {},
   "outputs": [],
   "source": [
    "df[['JobSat','RemoteWork']].isna().sum()"
   ]
  },
  {
   "cell_type": "markdown",
   "metadata": {},
   "source": [
    "#### Step 4: Analysis of Experience and Job Satisfaction\n"
   ]
  },
  {
   "cell_type": "markdown",
   "metadata": {},
   "source": [
    "Analyze the relationship between years of professional coding experience (`YearsCodePro`) and job satisfaction (`JobSat`). Summarize `YearsCodePro` and calculate median satisfaction scores based on experience ranges.\n",
    "\n",
    "- Create experience ranges for `YearsCodePro` (e.g., `0-5`, `5-10`, `10-20`, `>20` years).\n",
    "\n",
    "- Calculate the median `JobSat` for each range.\n",
    "\n",
    "- Visualize the relationship using a bar plot or similar visualization.\n"
   ]
  },
  {
   "cell_type": "code",
   "execution_count": null,
   "metadata": {},
   "outputs": [],
   "source": [
    "df['YearsCodePro'].dtype"
   ]
  },
  {
   "cell_type": "code",
   "execution_count": null,
   "metadata": {},
   "outputs": [],
   "source": [
    "df['YearsCodePro'].unique()"
   ]
  },
  {
   "cell_type": "code",
   "execution_count": null,
   "metadata": {},
   "outputs": [],
   "source": [
    "df['YearsCodePro'].replace({'Less than 1 year':0.5,'More than 50 years':55},inplace=True)"
   ]
  },
  {
   "cell_type": "code",
   "execution_count": null,
   "metadata": {},
   "outputs": [],
   "source": [
    "df['YearsCodePro'].isna().sum()"
   ]
  },
  {
   "cell_type": "code",
   "execution_count": null,
   "metadata": {},
   "outputs": [],
   "source": [
    "df['YearsCodePro'].fillna(df['YearsCodePro'].median(),inplace=True)"
   ]
  },
  {
   "cell_type": "code",
   "execution_count": null,
   "metadata": {},
   "outputs": [],
   "source": [
    "df['YearsCodePro'].isna().sum()"
   ]
  },
  {
   "cell_type": "code",
   "execution_count": null,
   "metadata": {},
   "outputs": [],
   "source": [
    "df['YearsCodePro']=df['YearsCodePro'].astype('int')\n",
    "df['YearsCodePro'].dtype"
   ]
  },
  {
   "cell_type": "code",
   "execution_count": null,
   "metadata": {},
   "outputs": [],
   "source": [
    "df['YearsCodePro'].unique()"
   ]
  },
  {
   "cell_type": "code",
   "execution_count": null,
   "metadata": {},
   "outputs": [],
   "source": [
    "## Write your code here\n",
    "import numpy as np\n",
    "bins=[0,5,10,20,np.inf]\n",
    "group_names=['junior','senior','professional','expert']\n",
    "df['YearsCodePro_group'] = pd.cut(df['YearsCodePro'],bins,labels=group_names,include_lowest=True)\n",
    "df['YearsCodePro_group'].value_counts()"
   ]
  },
  {
   "cell_type": "code",
   "execution_count": null,
   "metadata": {},
   "outputs": [],
   "source": [
    "grouped = df.groupby('YearsCodePro_group')"
   ]
  },
  {
   "cell_type": "code",
   "execution_count": null,
   "metadata": {},
   "outputs": [],
   "source": [
    "df_jobSat_By_YearsCodePro= grouped.agg({'JobSat':'median'})"
   ]
  },
  {
   "cell_type": "code",
   "execution_count": null,
   "metadata": {},
   "outputs": [],
   "source": [
    "df_jobSat_By_YearsCodePro.plot(kind='bar')\n",
    "plt.xlabel('YearsCodePro')\n",
    "plt.ylabel('Job Satisfaction')\n",
    "plt.title('Job Satisfaction Median Within YearsCodePro Range')\n",
    "plt.legend(['jobSatMedian'])\n",
    "plt.show()"
   ]
  },
  {
   "cell_type": "markdown",
   "metadata": {},
   "source": [
    "#### Step 5: Visualize Job Satisfaction\n"
   ]
  },
  {
   "cell_type": "markdown",
   "metadata": {},
   "source": [
    "Use a count plot to show the distribution of `JobSat` values. This provides insights into the overall satisfaction levels of respondents.\n"
   ]
  },
  {
   "cell_type": "code",
   "execution_count": null,
   "metadata": {},
   "outputs": [],
   "source": [
    "## Write your code here\n",
    "sns.countplot(data=df,x=df['JobSat'],hue=df['YearsCodePro_group'])\n",
    "plt.xticks(rotation=45)\n",
    "plt.title('Distribution of JobSat values across Years Code Pro Level')\n",
    "plt.show()"
   ]
  },
  {
   "cell_type": "markdown",
   "metadata": {},
   "source": [
    "#### Step 6: Analyzing Remote Work Preferences by Job Role\n"
   ]
  },
  {
   "cell_type": "markdown",
   "metadata": {},
   "source": [
    "Analyze trends in remote work based on job roles. Use the `RemoteWork` and `Employment` columns to explore preferences and examine if specific job roles prefer remote work more than others.\n",
    "\n",
    "- Use a count plot to show remote work distribution.\n",
    "\n",
    "- Cross-tabulate remote work preferences by employment type (e.g., full-time, part-time) and job roles.\n"
   ]
  },
  {
   "cell_type": "code",
   "execution_count": null,
   "metadata": {},
   "outputs": [],
   "source": [
    "## Write your code here\n",
    "sns.countplot(data=df,x=df['RemoteWork'])\n",
    "positions = plt.xticks()[0] \n",
    "xlabel = ['Remote','Hybrid','In-person']\n",
    "plt.xticks(positions,xlabel)\n",
    "plt.xticks(rotation = 45)\n",
    "plt.show()"
   ]
  },
  {
   "cell_type": "code",
   "execution_count": null,
   "metadata": {},
   "outputs": [],
   "source": [
    "df['Employment'].unique()"
   ]
  },
  {
   "cell_type": "code",
   "execution_count": null,
   "metadata": {},
   "outputs": [],
   "source": [
    "df['Employment'].shape"
   ]
  },
  {
   "cell_type": "code",
   "execution_count": null,
   "metadata": {},
   "outputs": [],
   "source": []
  },
  {
   "cell_type": "code",
   "execution_count": null,
   "metadata": {},
   "outputs": [],
   "source": [
    "employment_remote = pd.crosstab(df['Employment'], df['RemoteWork'])  \n",
    "print(employment_remote)  \n",
    "\n",
    "# 可视化  \n",
    "plt.figure(figsize=(12, 6))  \n",
    "employment_remote.plot(kind='bar', stacked=True)  \n",
    "plt.title('不同就业类型的远程工作偏好')  \n",
    "plt.xlabel('就业类型')  \n",
    "plt.ylabel('人数')  \n",
    "plt.legend(title='工作模式')  \n",
    "plt.show()  "
   ]
  },
  {
   "cell_type": "markdown",
   "metadata": {},
   "source": [
    "#### Step 7: Analyzing Programming Language Trends by Region\n"
   ]
  },
  {
   "cell_type": "markdown",
   "metadata": {},
   "source": [
    "Analyze the popularity of programming languages by region. Use the `LanguageHaveWorkedWith` column to investigate which languages are most used in different regions.\n",
    "\n",
    "- Filter data by country or region.\n",
    "\n",
    "- Visualize the top programming languages by region with a bar plot or heatmap.\n"
   ]
  },
  {
   "cell_type": "markdown",
   "metadata": {},
   "source": [
    "<details>\n",
    "<summary>知识点总结</summary>\n",
    "# 编程语言在不同地区的流行度分析\n",
    "\n",
    "根据提供的数据，我要分析不同地区编程语言的流行度。这需要处理`LanguageHaveWorkedWith`和`Country`列的数据。\n",
    "\n",
    "## 数据概览\n",
    "\n",
    "首先看一下数据：\n",
    "- `LanguageHaveWorkedWith`列有5,692个空值\n",
    "- `Country`列有6,507个空值\n",
    "- `LanguageHaveWorkedWith`有23,864个唯一值（这可能是因为它包含多种语言组合）\n",
    "- `Country`有185个唯一国家或地区\n",
    "\n",
    "## 分析步骤\n",
    "\n",
    "1. **数据预处理**：\n",
    "   - 需要先清理缺失值\n",
    "   - 将`LanguageHaveWorkedWith`列拆分，因为它包含以分号分隔的多种语言\n",
    "\n",
    "2. **按地区分组**：\n",
    "   - 按国家或地区对数据进行分组\n",
    "   - 为简化分析，可以选择几个主要国家或将国家合并成更广泛的地区（如北美、欧洲、亚洲等）\n",
    "\n",
    "3. **统计每个地区流行的编程语言**：\n",
    "   - 计算每个地区各种编程语言的使用频率\n",
    "   - 找出每个地区最常用的前5或前10种语言\n",
    "\n",
    "4. **可视化**：\n",
    "   - 使用条形图显示各地区最流行的编程语言\n",
    "   - 或使用热图展示不同地区和语言之间的关系\n",
    "\n",
    "## 实现建议\n",
    "\n",
    "```python\n",
    "# 处理缺失值\n",
    "filtered_df = df.dropna(subset=['LanguageHaveWorkedWith', 'Country'])\n",
    "\n",
    "# 拆分语言列表\n",
    "def expand_languages(row):\n",
    "    languages = row['LanguageHaveWorkedWith'].split(';')\n",
    "    return pd.Series({'Country': row['Country'], 'Language': languages})\n",
    "\n",
    "languages_expanded = filtered_df.apply(expand_languages, axis=1).explode('Language')\n",
    "\n",
    "# 选择主要国家或地区进行分析\n",
    "top_countries = languages_expanded['Country'].value_counts().head(10).index\n",
    "country_languages = languages_expanded[languages_expanded['Country'].isin(top_countries)]\n",
    "\n",
    "# 统计每个国家/地区的语言使用情况\n",
    "language_counts = country_languages.groupby(['Country', 'Language']).size().reset_index(name='Count')\n",
    "\n",
    "# 找出每个国家最流行的语言\n",
    "top_languages = language_counts.sort_values(['Country', 'Count'], ascending=[True, False])\n",
    "top_languages_by_country = top_languages.groupby('Country').head(5)\n",
    "\n",
    "# 可视化\n",
    "plt.figure(figsize=(15, 10))\n",
    "sns.barplot(x='Language', y='Count', hue='Country', data=top_languages_by_country)\n",
    "plt.title('最流行的编程语言（按国家/地区）')\n",
    "plt.xticks(rotation=45)\n",
    "plt.tight_layout()\n",
    "plt.show()\n",
    "```\n",
    "\n",
    "通过这样的分析，我们可以清晰地看到不同地区最受欢迎的编程语言，这对于理解全球编程趋势、招聘决策或教育规划都很有价值。\n",
    "# Apply函数与Series和DataFrame数据结构\n",
    "\n",
    "## Apply函数的工作原理\n",
    "\n",
    "`apply`函数是Pandas中的一个强大工具，用于对DataFrame或Series对象应用自定义函数。它的基本原理是：\n",
    "\n",
    "- 当`axis=1`时，它会将DataFrame的每一行作为Series对象传递给指定的函数\n",
    "- 当`axis=0`时，它会将DataFrame的每一列作为Series对象传递给指定的函数\n",
    "\n",
    "## Series和DataFrame的区别\n",
    "\n",
    "- **Series**：一维数据结构，类似于带有标签的数组或字典，有索引和值两部分\n",
    "- **DataFrame**：二维数据结构，类似于Excel表格，有行和列，可以看作是Series的集合\n",
    "\n",
    "## 为什么`expand_languages`返回Series而不是DataFrame\n",
    "\n",
    "在这种情况下，`expand_languages`函数被设计为与`apply(axis=1)`一起使用，意味着：\n",
    "\n",
    "1. 函数接收DataFrame的每一行（作为Series对象）\n",
    "2. 函数需要返回一个固定格式的结果\n",
    "3. 当`apply`处理完所有行后，它会根据每行返回的结果重新组合\n",
    "\n",
    "当你对每行返回Series时，Pandas会自动将这些Series合并成一个新的DataFrame，其中：\n",
    "- 返回Series的索引变成了新DataFrame的列名\n",
    "- 返回Series的值变成了新DataFrame对应列的值\n",
    "\n",
    "## 示例解释\n",
    "\n",
    "当你有这样的代码：\n",
    "```python\n",
    "def expand_languages(row):\n",
    "    languages = row['LanguageHaveWorkedWith'].split(';')\n",
    "    return pd.Series({\n",
    "        'Country': row['Country'],\n",
    "        'Coding Language': languages\n",
    "    })\n",
    "\n",
    "result = df.apply(expand_languages, axis=1)\n",
    "```\n",
    "\n",
    "这个过程是：\n",
    "1. 对于DataFrame中的每一行，调用`expand_languages`函数\n",
    "2. 该函数返回一个包含'Country'和'Coding Language'的Series\n",
    "3. `apply`函数将所有返回的Series组合成一个新的DataFrame\n",
    "\n",
    "如果函数返回的Series包含列表（如上例中的`languages`），Pandas会自动处理并创建具有适当结构的DataFrame。\n",
    "\n",
    "这就是为什么在这种情况下返回Series是合适的 - 它与`apply`的工作方式自然契合。\n",
    "</details>"
   ]
  },
  {
   "cell_type": "code",
   "execution_count": null,
   "metadata": {},
   "outputs": [],
   "source": [
    "df[['LanguageHaveWorkedWith','Country']].isnull().sum()"
   ]
  },
  {
   "cell_type": "code",
   "execution_count": null,
   "metadata": {},
   "outputs": [],
   "source": [
    "df[['LanguageHaveWorkedWith','Country']].nunique()"
   ]
  },
  {
   "cell_type": "code",
   "execution_count": null,
   "metadata": {},
   "outputs": [],
   "source": [
    "df[['LanguageHaveWorkedWith','Country']].head()"
   ]
  },
  {
   "cell_type": "code",
   "execution_count": null,
   "metadata": {},
   "outputs": [],
   "source": [
    "#拆分语言列表\n",
    "def expand_languages(row):\n",
    "    languages = row['LanguageHaveWorkedWith'].split(';')\n",
    "    return pd.Series({'Country':row['Country'],'Codeing Language':languages})"
   ]
  },
  {
   "cell_type": "code",
   "execution_count": null,
   "metadata": {},
   "outputs": [],
   "source": [
    "df.shape"
   ]
  },
  {
   "cell_type": "code",
   "execution_count": null,
   "metadata": {},
   "outputs": [],
   "source": [
    "df_clean=df.dropna(subset=['LanguageHaveWorkedWith','Country'])"
   ]
  },
  {
   "cell_type": "code",
   "execution_count": null,
   "metadata": {},
   "outputs": [],
   "source": [
    "df_clean.shape"
   ]
  },
  {
   "cell_type": "code",
   "execution_count": null,
   "metadata": {},
   "outputs": [],
   "source": [
    "df_country_language = df_clean.apply(expand_languages,axis=1)"
   ]
  },
  {
   "cell_type": "code",
   "execution_count": null,
   "metadata": {},
   "outputs": [],
   "source": [
    "#筛选出前十的country\n",
    "top10_country= df_clean['Country'].value_counts().index[0:10]\n",
    "df_country_language=df_country_language[df_country_language['Country'].isin(top10_country)]"
   ]
  },
  {
   "cell_type": "code",
   "execution_count": null,
   "metadata": {},
   "outputs": [],
   "source": [
    "#展开language\n",
    "df_country_language=df_country_language.explode('Codeing Language')"
   ]
  },
  {
   "cell_type": "code",
   "execution_count": null,
   "metadata": {},
   "outputs": [],
   "source": [
    "## Write your code here\n",
    "grouped = df_country_language.groupby(['Country','Codeing Language']).size()"
   ]
  },
  {
   "cell_type": "markdown",
   "metadata": {},
   "source": [
    "<details>\n",
    "<summary> pandas中 `.reset_index(name='Count')` 的解释</summary>\n",
    "\n",
    "这段代码是pandas数据处理中的一个常用操作，它做了以下事情：\n",
    "\n",
    "`grouped.reset_index(name='Count')` 将一个分组聚合后的Series对象转换为DataFrame对象：\n",
    "\n",
    "1. **背景**：`grouped` 很可能是通过某种分组聚合操作(如 `.groupby().size()` 或 `.groupby().count()`)得到的Series对象\n",
    "   \n",
    "2. **reset_index()**：这个方法将原来的索引转换为DataFrame的列\n",
    "\n",
    "3. **name='Count'**：为聚合结果的值列指定一个名字\"Count\"\n",
    "\n",
    "### 具体例子\n",
    "\n",
    "```python\n",
    "# 假设你有这样的数据\n",
    "df = pd.DataFrame({'类别': ['A', 'B', 'A', 'C', 'B', 'A']})\n",
    "\n",
    "# 分组计数\n",
    "grouped = df.groupby('类别').size()\n",
    "# 此时grouped是Series对象，索引是'类别'\n",
    "\n",
    "# 应用你的代码\n",
    "result = grouped.reset_index(name='Count')\n",
    "# 现在result是DataFrame，有两列：'类别'和'Count'\n",
    "```\n",
    "\n",
    "最终得到的`result`会是这样的DataFrame：\n",
    "\n",
    "```\n",
    "  类别  Count\n",
    "0  A     3\n",
    "1  B     2\n",
    "2  C     1\n",
    "```\n",
    "\n",
    "这个操作在数据统计和可视化前的数据准备阶段非常有用，它将分组计数结果转换为更易于使用的表格格式。\n",
    "</details>"
   ]
  },
  {
   "cell_type": "code",
   "execution_count": null,
   "metadata": {},
   "outputs": [],
   "source": [
    "grouped=grouped.reset_index(name='Count')"
   ]
  },
  {
   "cell_type": "code",
   "execution_count": null,
   "metadata": {},
   "outputs": [],
   "source": [
    "grouped"
   ]
  },
  {
   "cell_type": "code",
   "execution_count": null,
   "metadata": {},
   "outputs": [],
   "source": [
    "grouped.sort_values(by=['Country','Count'],ascending=[True,False],inplace=True)"
   ]
  },
  {
   "cell_type": "code",
   "execution_count": null,
   "metadata": {},
   "outputs": [],
   "source": [
    "top_languages_by_country=grouped.groupby('Country').head(5)"
   ]
  },
  {
   "cell_type": "code",
   "execution_count": null,
   "metadata": {},
   "outputs": [],
   "source": [
    "sns.barplot(x='Country',y='Count',data =top_languages_by_country,hue='Codeing Language')"
   ]
  },
  {
   "cell_type": "markdown",
   "metadata": {},
   "source": [
    "#### Step 8: Correlation Between Experience and Satisfaction\n"
   ]
  },
  {
   "cell_type": "markdown",
   "metadata": {},
   "source": [
    "Examine how years of experience (`YearsCodePro`) correlate with job satisfaction (`JobSatPoints_1`). Use a scatter plot to visualize this relationship.\n"
   ]
  },
  {
   "cell_type": "code",
   "execution_count": null,
   "metadata": {},
   "outputs": [],
   "source": [
    "## Write your code here\n",
    "df[['JobSatPoints_1','YearsCodePro']].nunique()"
   ]
  },
  {
   "cell_type": "code",
   "execution_count": null,
   "metadata": {},
   "outputs": [],
   "source": [
    "df['JobSatPoints_1'].unique()"
   ]
  },
  {
   "cell_type": "code",
   "execution_count": null,
   "metadata": {},
   "outputs": [],
   "source": [
    "df['YearsCodePro'].unique()"
   ]
  },
  {
   "cell_type": "code",
   "execution_count": null,
   "metadata": {},
   "outputs": [],
   "source": [
    "df_clean=df.dropna(subset=['JobSatPoints_1','YearsCodePro'])"
   ]
  },
  {
   "cell_type": "code",
   "execution_count": null,
   "metadata": {},
   "outputs": [],
   "source": [
    "df_clean[['JobSatPoints_1','YearsCodePro']].dtypes"
   ]
  },
  {
   "cell_type": "code",
   "execution_count": null,
   "metadata": {},
   "outputs": [],
   "source": [
    "plt.figure(figsize=(14,10))\n",
    "df_clean.plot(kind='scatter',y='JobSatPoints_1',x='YearsCodePro')\n",
    "plt.show()"
   ]
  },
  {
   "cell_type": "markdown",
   "metadata": {},
   "source": [
    "#### Step 9: Educational Background and Employment Type\n"
   ]
  },
  {
   "cell_type": "markdown",
   "metadata": {},
   "source": [
    "Explore how educational background (`EdLevel`) relates to employment type (`Employment`). Use cross-tabulation and visualizations to understand if higher education correlates with specific employment types.\n"
   ]
  },
  {
   "cell_type": "markdown",
   "metadata": {},
   "source": [
    "<details>\n",
    "<summary>教育背景与就业类型的关系分析</summary>\n",
    "\n",
    "## 分析目标\n",
    "我们要探究教育水平(EdLevel)如何与就业类型(Employment)相关联，看看高等教育是否与特定就业类型有相关性。\n",
    "\n",
    "## 分析方法\n",
    "1. **交叉表分析**：创建教育水平与就业类型的交叉表，显示每种组合的频率\n",
    "2. **可视化**：使用图表直观呈现这种关系\n",
    "\n",
    "## 分析步骤\n",
    "\n",
    "### 1. 数据准备\n",
    "首先，我们需要确保数据中的EdLevel和Employment变量准备好用于分析：\n",
    "```python\n",
    "# 检查数据中缺失值\n",
    "print(df[['EdLevel', 'Employment']].isnull().sum())\n",
    "\n",
    "# 查看这两个变量的唯一值\n",
    "print(df['EdLevel'].unique())\n",
    "print(df['Employment'].unique())\n",
    "```\n",
    "\n",
    "### 2. 交叉表分析\n",
    "```python\n",
    "# 创建教育水平与就业类型的交叉表\n",
    "cross_tab = pd.crosstab(df['EdLevel'], df['Employment'])\n",
    "\n",
    "# 计算百分比\n",
    "cross_tab_pct = pd.crosstab(df['EdLevel'], df['Employment'], normalize='index') * 100\n",
    "\n",
    "# 显示交叉表\n",
    "print(cross_tab)\n",
    "print(\"\\n百分比表:\")\n",
    "print(cross_tab_pct)\n",
    "```\n",
    "\n",
    "### 3. 可视化分析\n",
    "\n",
    "**堆叠柱状图**：\n",
    "```python\n",
    "plt.figure(figsize=(12, 8))\n",
    "cross_tab_pct.plot(kind='bar', stacked=True)\n",
    "plt.title('不同教育水平的就业类型分布')\n",
    "plt.xlabel('教育水平')\n",
    "plt.ylabel('百分比 (%)')\n",
    "plt.xticks(rotation=45)\n",
    "plt.legend(title='就业类型')\n",
    "plt.tight_layout()\n",
    "plt.show()\n",
    "```\n",
    "\n",
    "**热力图**：\n",
    "```python\n",
    "plt.figure(figsize=(12, 8))\n",
    "sns.heatmap(cross_tab, annot=True, cmap='YlGnBu', fmt='d')\n",
    "plt.title('教育水平与就业类型关系热力图')\n",
    "plt.ylabel('教育水平')\n",
    "plt.xlabel('就业类型')\n",
    "plt.tight_layout()\n",
    "plt.show()\n",
    "```\n",
    "\n",
    "## 结果解读\n",
    "\n",
    "通过分析，我们可以观察：\n",
    "\n",
    "1. **高等教育与全职工作**：是否拥有硕士或博士学位的人更可能获得全职工作？\n",
    "\n",
    "2. **职业教育与自由职业**：职业教育背景的人是否更倾向于自由职业或合同工作？\n",
    "\n",
    "3. **教育水平与创业**：高等教育与自主创业有什么关系？\n",
    "\n",
    "4. **未接受高等教育的就业趋势**：没有高等教育学历的人在就业类型上有什么特点？\n",
    "\n",
    "## 结论\n",
    "\n",
    "这种分析帮助我们了解教育投资如何影响职业道路，可以为以下方面提供见解：\n",
    "\n",
    "- 教育政策制定\n",
    "- 职业规划建议\n",
    "- 招聘策略\n",
    "- 理解劳动力市场动态\n",
    "\n",
    "通过这种分析，我们可以判断不同教育水平是否与特定就业模式有显著相关性，从而为教育和职业决策提供参考。\n",
    "</details>"
   ]
  },
  {
   "cell_type": "code",
   "execution_count": null,
   "metadata": {},
   "outputs": [],
   "source": [
    "df_Ed_Em = df[['EdLevel','Employment']]"
   ]
  },
  {
   "cell_type": "code",
   "execution_count": null,
   "metadata": {},
   "outputs": [],
   "source": [
    "df_Ed_Em.isnull().sum()"
   ]
  },
  {
   "cell_type": "code",
   "execution_count": null,
   "metadata": {},
   "outputs": [],
   "source": [
    "df_Ed_Em.dropna(subset=['EdLevel','Employment'],inplace=True)"
   ]
  },
  {
   "cell_type": "code",
   "execution_count": null,
   "metadata": {},
   "outputs": [],
   "source": [
    "df_Ed_Em.isnull().sum()"
   ]
  },
  {
   "cell_type": "code",
   "execution_count": null,
   "metadata": {},
   "outputs": [],
   "source": [
    "df_Ed_Em.nunique()"
   ]
  },
  {
   "cell_type": "markdown",
   "metadata": {},
   "source": [
    "# pd.crosstab 函数解析\n",
    "\n",
    "`pd.crosstab` 是 Pandas 库中的一个函数，用于创建交叉表（也称为列联表或频率表）。这是一种常用于统计分析的表格形式，用于显示不同类别变量之间的关系和频率分布。\n",
    "\n",
    "## 基本用法\n",
    "\n",
    "```python\n",
    "pd.crosstab(index, columns, values=None, rownames=None, colnames=None, aggfunc=None, margins=False, margins_name='All', dropna=True, normalize=False)\n",
    "```\n",
    "\n",
    "## 主要参数\n",
    "\n",
    "- **index**: 行标签的数据\n",
    "- **columns**: 列标签的数据\n",
    "- **values**: 可选，用于计算的数据\n",
    "- **aggfunc**: 当提供values时使用的聚合函数\n",
    "- **margins**: 是否添加行/列汇总\n",
    "- **normalize**: 是否对结果进行归一化处理\n",
    "\n",
    "## 功能说明\n",
    "\n",
    "1. **频率统计**：默认情况下，交叉表计算每个类别组合出现的频率\n",
    "\n",
    "2. **条件分析**：可以快速查看两个或多个分类变量之间的关系\n",
    "\n",
    "3. **聚合计算**：当提供values参数时，可以计算每个组合的聚合值（如平均值、总和等）\n",
    "\n",
    "## 实际应用示例\n",
    "\n",
    "```python\n",
    "# 基本用法 - 统计两个分类变量之间的频率\n",
    "pd.crosstab(df['性别'], df['教育水平'])\n",
    "\n",
    "# 添加总计行/列\n",
    "pd.crosstab(df['性别'], df['教育水平'], margins=True)\n",
    "\n",
    "# 归一化处理（按行或列的百分比）\n",
    "pd.crosstab(df['性别'], df['教育水平'], normalize='index')  # 按行归一化\n",
    "\n",
    "# 使用聚合函数\n",
    "pd.crosstab(df['性别'], df['教育水平'], values=df['收入'], aggfunc='mean')  # 计算每组平均收入\n",
    "```\n",
    "\n",
    "`pd.crosstab` 在数据分析和探索中非常有用，特别是在需要理解分类变量之间关系或进行分组统计时。"
   ]
  },
  {
   "cell_type": "code",
   "execution_count": null,
   "metadata": {},
   "outputs": [],
   "source": [
    "## Write your code here\n",
    "cross_tab = pd.crosstab(df_Ed_Em['EdLevel'],df_Ed_Em['Employment'])\n",
    "cross_tab"
   ]
  },
  {
   "cell_type": "code",
   "execution_count": null,
   "metadata": {},
   "outputs": [],
   "source": [
    "plt.figure(figsize=(12, 8))\n",
    "sns.heatmap(cross_tab, annot=True, cmap='YlGnBu', fmt='d')\n",
    "plt.title('教育水平与就业类型关系热力图')\n",
    "plt.ylabel('教育水平')\n",
    "plt.xlabel('就业类型')\n",
    "plt.tight_layout()\n",
    "plt.show()"
   ]
  },
  {
   "cell_type": "code",
   "execution_count": null,
   "metadata": {},
   "outputs": [],
   "source": [
    "cross_tab_pcg = pd.crosstab(df_Ed_Em['EdLevel'],df_Ed_Em['Employment'],normalize='index')*100\n",
    "cross_tab_pcg"
   ]
  },
  {
   "cell_type": "markdown",
   "metadata": {},
   "source": [
    "#### Step 10: Save the Cleaned and Analyzed Dataset\n"
   ]
  },
  {
   "cell_type": "markdown",
   "metadata": {},
   "source": [
    "After your analysis, save the modified dataset for further use or sharing.\n"
   ]
  },
  {
   "cell_type": "code",
   "execution_count": null,
   "metadata": {},
   "outputs": [],
   "source": [
    "## Write your code here\n",
    "df_clean.to_csv('Clean Dataset',index=False)"
   ]
  },
  {
   "cell_type": "markdown",
   "metadata": {},
   "source": [
    "<h2>Summary</h2>\n"
   ]
  },
  {
   "cell_type": "markdown",
   "metadata": {},
   "source": [
    "In this revised lab, you:\n",
    "\n",
    "- Loaded and explored the structure of the dataset.\n",
    "\n",
    "- Handled missing data effectively.\n",
    "\n",
    "- Analyzed key variables, including working hours, job satisfaction, and remote work trends.\n",
    "\n",
    "- Investigated programming language usage by region and examined the relationship between experience and satisfaction.\n",
    "\n",
    "- Used cross-tabulation to understand educational background and employment type.\n"
   ]
  },
  {
   "cell_type": "markdown",
   "metadata": {},
   "source": [
    "Copyright © IBM Corporation. All rights reserved.\n"
   ]
  }
 ],
 "metadata": {
  "kernelspec": {
   "display_name": "Python 3 (ipykernel)",
   "language": "python",
   "name": "python3"
  },
  "language_info": {
   "codemirror_mode": {
    "name": "ipython",
    "version": 3
   },
   "file_extension": ".py",
   "mimetype": "text/x-python",
   "name": "python",
   "nbconvert_exporter": "python",
   "pygments_lexer": "ipython3",
   "version": "3.12.8"
  },
  "prev_pub_hash": "2a4f0935f8d3cf9549d9e18dbbd812b8dd5a034c94517c8adba13875f8268801"
 },
 "nbformat": 4,
 "nbformat_minor": 4
}
